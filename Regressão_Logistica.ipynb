{
  "nbformat": 4,
  "nbformat_minor": 0,
  "metadata": {
    "colab": {
      "provenance": [],
      "authorship_tag": "ABX9TyNgs26QAjNMz71LUPsSsK8O",
      "include_colab_link": true
    },
    "kernelspec": {
      "name": "python3",
      "display_name": "Python 3"
    },
    "language_info": {
      "name": "python"
    }
  },
  "cells": [
    {
      "cell_type": "markdown",
      "metadata": {
        "id": "view-in-github",
        "colab_type": "text"
      },
      "source": [
        "<a href=\"https://colab.research.google.com/github/MarceloZanguettin/ML_Regressao_Logistica/blob/main/Regress%C3%A3o_Logistica.ipynb\" target=\"_parent\"><img src=\"https://colab.research.google.com/assets/colab-badge.svg\" alt=\"Open In Colab\"/></a>"
      ]
    },
    {
      "cell_type": "code",
      "execution_count": null,
      "metadata": {
        "id": "DhO-9R1c92FF"
      },
      "outputs": [],
      "source": [
        "# importando as bibliotecas\n",
        "import numpy as np\n",
        "import pandas as pd\n",
        "import matplotlib.pyplot as plt\n",
        "%matplotlib inline"
      ]
    },
    {
      "cell_type": "code",
      "source": [
        "# Carregar o dataset\n",
        "df = pd.read_csv('exame.csv')\n",
        "df.head()"
      ],
      "metadata": {
        "id": "Qau0BP3P-8Ah"
      },
      "execution_count": null,
      "outputs": []
    },
    {
      "cell_type": "code",
      "source": [
        "# Verificação grafica dos dados\n",
        "positive = df[df['Admitido'].isin([1])]\n",
        "negative = df[df['Admitido'].isin([0])]\n",
        "\n",
        "fig, ax = plt.subplots(figsize=(6,6))\n",
        "ax.scatter(positive['Exame1'], positive['Exame2'], s=50, c='b',\n",
        "           marker ='o', label='Admitido')\n",
        "ax.scatter(negative['Exame1'], negative'Exame2'], s=50, c='r',\n",
        "           marker ='x', label='Não Admitido')\n",
        "ax.legend()\n",
        "ax.set_xlabel('Exame 1')\n",
        "ax.set_ylabel('Exame 2')"
      ],
      "metadata": {
        "id": "3qx4RyDr_Se_"
      },
      "execution_count": null,
      "outputs": []
    },
    {
      "cell_type": "code",
      "source": [
        "# Separar entre Feature e Target\n",
        "n_features = len(df.columns)-1\n",
        "X = np.array(df.drop('Admitido', 1))\n",
        "y = df.iloc[:,n_features:n_features+1].values"
      ],
      "metadata": {
        "id": "nEdIphDnBmX9"
      },
      "execution_count": null,
      "outputs": []
    },
    {
      "cell_type": "code",
      "source": [
        "# Armazenar a média e o SD\n",
        "mean = X.mean(axis=0)\n",
        "sd = X.std(axis=0)\n",
        "print('Media:', mean, 'SD', sd)"
      ],
      "metadata": {
        "id": "x-OX8jVlCe85"
      },
      "execution_count": null,
      "outputs": []
    },
    {
      "cell_type": "code",
      "source": [
        "# Normalizar os dados\n",
        "from sklearn.preprocessing import StandardScaler\n",
        "scaler=StandardScaler()\n",
        "scaler.fit(X)\n",
        "X = scaler.transform(X)"
      ],
      "metadata": {
        "id": "9EpCJ8s_C0Q-"
      },
      "execution_count": null,
      "outputs": []
    },
    {
      "cell_type": "code",
      "source": [
        "# Inserir o Bias valendo 1\n",
        "def insert_ones(X):\n",
        "    ones = np.ones([X.shape[0],1])\n",
        "    return np.concatenate((ones,X), axis=1)"
      ],
      "metadata": {
        "id": "AUjrfTFxDe2_"
      },
      "execution_count": null,
      "outputs": []
    },
    {
      "cell_type": "code",
      "source": [
        "# Criar vetor de pesos Theta\n",
        "w = np.random.rand(1,n_features+1)"
      ],
      "metadata": {
        "id": "zixijLihEXVu"
      },
      "execution_count": null,
      "outputs": []
    },
    {
      "cell_type": "code",
      "source": [
        "# Função Sigmoid\n",
        "def sigmoid(z):\n",
        "    return 1/(1+np.exp(-z))"
      ],
      "metadata": {
        "id": "I9SyUdMnErst"
      },
      "execution_count": null,
      "outputs": []
    },
    {
      "cell_type": "code",
      "source": [
        "# Testar função sigmoid\n",
        "nums = np.arange(-10, 10, step=1)\n",
        "fig, ax = plt.subplots(figsize = (6,4))\n",
        "ax.plot(nums, sigmoid(nums), 'r')"
      ],
      "metadata": {
        "colab": {
          "base_uri": "https://localhost:8080/",
          "height": 282
        },
        "id": "h6yAiptbFU2M",
        "outputId": "328feb28-18b1-4653-c08c-3bbefef6fd81"
      },
      "execution_count": null,
      "outputs": [
        {
          "output_type": "execute_result",
          "data": {
            "text/plain": [
              "[<matplotlib.lines.Line2D at 0x7fcce1cd0e50>]"
            ]
          },
          "metadata": {},
          "execution_count": 4
        },
        {
          "output_type": "display_data",
          "data": {
            "text/plain": [
              "<Figure size 432x288 with 1 Axes>"
            ],
            "image/png": "[encoded data removed]"
          },
          "metadata": {
            "needs_background": "light"
          }
        }
      ]
    },
    {
      "cell_type": "code",
      "source": [],
      "metadata": {
        "id": "ycI6gzZl0uor"
      },
      "execution_count": null,
      "outputs": []
    }
  ]
}